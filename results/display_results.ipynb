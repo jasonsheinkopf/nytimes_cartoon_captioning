{
 "cells": [
  {
   "cell_type": "markdown",
   "metadata": {},
   "source": [
    "# This notebook to download and compare results only from the best models"
   ]
  },
  {
   "cell_type": "code",
   "execution_count": 3,
   "metadata": {},
   "outputs": [],
   "source": [
    "import wandb\n",
    "import getpass\n",
    "import os"
   ]
  },
  {
   "cell_type": "code",
   "execution_count": 4,
   "metadata": {},
   "outputs": [],
   "source": [
    "wandb_password = getpass.getpass(\"Enter your wandb password: \")\n",
    "os.environ[\"WANDB_API_KEY\"] = wandb_password"
   ]
  },
  {
   "cell_type": "code",
   "execution_count": 4,
   "metadata": {},
   "outputs": [
    {
     "name": "stdout",
     "output_type": "stream",
     "text": [
      "Run ID: z918t41b\n",
      "Run Name: opt_2_7\n",
      "Downloaded: artifact/799943808/wandb_manifest.json into opt_2_7\n",
      "Downloaded: config.yaml into opt_2_7\n",
      "Downloaded: output.log into opt_2_7\n",
      "Downloaded: requirements.txt into opt_2_7\n",
      "Downloaded: wandb-metadata.json into opt_2_7\n",
      "Downloaded: wandb-summary.json into opt_2_7\n",
      "Downloaded: z918t41b_gen_captions.txt into opt_2_7\n"
     ]
    }
   ],
   "source": [
    "import os\n",
    "import wandb\n",
    "\n",
    "# Log in to wandb\n",
    "wandb.login()\n",
    "\n",
    "# Specify the run path\n",
    "run_path = input('Run path: ')\n",
    "\n",
    "# Initialize the run object\n",
    "api = wandb.Api()\n",
    "run = api.run(run_path)\n",
    "\n",
    "# Access run information\n",
    "print(\"Run ID:\", run.id)\n",
    "print(\"Run Name:\", run.name)\n",
    "\n",
    "# Create directory with run name\n",
    "directory = run.name\n",
    "if not os.path.exists(directory):\n",
    "    os.makedirs(directory)\n",
    "\n",
    "# Access files\n",
    "files = run.files()\n",
    "for file in files:\n",
    "    # Download the file\n",
    "    file.download(replace=True, root=directory)\n",
    "    print(\"Downloaded:\", file.name, \"into\", directory)\n"
   ]
  },
  {
   "cell_type": "markdown",
   "metadata": {},
   "source": []
  }
 ],
 "metadata": {
  "kernelspec": {
   "display_name": "nytimes",
   "language": "python",
   "name": "python3"
  },
  "language_info": {
   "codemirror_mode": {
    "name": "ipython",
    "version": 3
   },
   "file_extension": ".py",
   "mimetype": "text/x-python",
   "name": "python",
   "nbconvert_exporter": "python",
   "pygments_lexer": "ipython3",
   "version": "3.12.2"
  }
 },
 "nbformat": 4,
 "nbformat_minor": 2
}
